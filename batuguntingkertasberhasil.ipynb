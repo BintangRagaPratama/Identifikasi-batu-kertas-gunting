{
  "nbformat": 4,
  "nbformat_minor": 0,
  "metadata": {
    "colab": {
      "provenance": [],
      "authorship_tag": "ABX9TyO2YaktxafJ9tNEkJaNSfwb",
      "include_colab_link": true
    },
    "kernelspec": {
      "name": "python3",
      "display_name": "Python 3"
    },
    "language_info": {
      "name": "python"
    }
  },
  "cells": [
    {
      "cell_type": "markdown",
      "metadata": {
        "id": "view-in-github",
        "colab_type": "text"
      },
      "source": [
        "<a href=\"https://colab.research.google.com/github/PratamaPortofolio/Identifikasi-batu-kertas-gunting/blob/main/batuguntingkertasberhasil.ipynb\" target=\"_parent\"><img src=\"https://colab.research.google.com/assets/colab-badge.svg\" alt=\"Open In Colab\"/></a>"
      ]
    },
    {
      "cell_type": "code",
      "execution_count": null,
      "metadata": {
        "id": "kN28z65M5R81"
      },
      "outputs": [],
      "source": [
        "\n",
        "import tensorflow as tf\n",
        "from tensorflow.keras.preprocessing.image import ImageDataGenerator\n",
        "import zipfile\n",
        "import os\n",
        "\n",
        "import numpy as np\n",
        "from google.colab import files\n",
        "from keras.preprocessing import image\n",
        "import matplotlib.pyplot as plt\n",
        "import matplotlib.image as mpimg"
      ]
    },
    {
      "cell_type": "code",
      "source": [
        "# link tempat dataset rockpaperscissors.zip berada\n",
        "url = \"https://github.com/dicodingacademy/assets/releases/download/release/rockpaperscissors.zip\"\n",
        "\n",
        "!wget {url} -O rockpaperscissors.zip\n",
        "\n",
        "# Ekstrak file zip\n",
        "local_zip = 'rockpaperscissors.zip'  #\n",
        "base_dir = '/tmp/rockpaperscissors/rps-cv-images'\n",
        "zip_extract = zipfile.ZipFile(local_zip, 'r')\n",
        "zip_extract.extractall('/tmp')\n",
        "zip_extract.close()"
      ],
      "metadata": {
        "id": "Mt6aY6D55Xz9"
      },
      "execution_count": null,
      "outputs": []
    },
    {
      "cell_type": "code",
      "source": [
        "os.listdir('/tmp/rockpaperscissors')"
      ],
      "metadata": {
        "id": "npEE0Sdc51z9"
      },
      "execution_count": null,
      "outputs": []
    },
    {
      "cell_type": "code",
      "source": [
        "# augmentation gambar\n",
        "train_datagen = ImageDataGenerator(\n",
        "    rescale = 1./255,\n",
        "    rotation_range = 20,\n",
        "    horizontal_flip = True,\n",
        "    shear_range = 0.2,\n",
        "    fill_mode = 'wrap',\n",
        "    validation_split = 0.4\n",
        ")\n",
        "train_datagen"
      ],
      "metadata": {
        "id": "RZNHD-Bz6O13"
      },
      "execution_count": null,
      "outputs": []
    },
    {
      "cell_type": "code",
      "source": [
        "\n",
        "train_generator = train_datagen.flow_from_directory(\n",
        "    base_dir,\n",
        "    target_size = (100, 150),\n",
        "    class_mode = 'categorical',\n",
        "    subset = 'training'\n",
        ")\n",
        "\n",
        "validation_generator = train_datagen.flow_from_directory(\n",
        "    base_dir,\n",
        "    target_size = (100, 150),\n",
        "    class_mode = 'categorical',\n",
        "    subset = 'validation'\n",
        ")"
      ],
      "metadata": {
        "id": "M6xJ5lKY6YL3"
      },
      "execution_count": null,
      "outputs": []
    },
    {
      "cell_type": "code",
      "source": [
        "model = tf.keras.models.Sequential([\n",
        "    tf.keras.layers.Conv2D(32, (3, 3), activation = 'relu', input_shape = (100, 150, 3)),\n",
        "    tf.keras.layers.MaxPooling2D(2, 2),\n",
        "    tf.keras.layers.Conv2D(64, (3, 3), activation = 'relu'),\n",
        "    tf.keras.layers.MaxPooling2D(2, 2),\n",
        "    tf.keras.layers.Conv2D(128, (3, 3), activation = 'relu'),\n",
        "    tf.keras.layers.MaxPooling2D(2, 2),\n",
        "    tf.keras.layers.Conv2D(256, (3, 3), activation = 'relu'),\n",
        "    tf.keras.layers.MaxPooling2D(2, 2),\n",
        "    tf.keras.layers.Flatten(),\n",
        "    tf.keras.layers.Dense(512, activation = 'relu'),\n",
        "    tf.keras.layers.Dense(3, activation = 'softmax')\n",
        "])"
      ],
      "metadata": {
        "id": "K7sTYesO6eCS"
      },
      "execution_count": null,
      "outputs": []
    },
    {
      "cell_type": "code",
      "source": [
        "\n",
        "# menghitung fungsi\n",
        "model.compile(\n",
        "    loss = 'categorical_crossentropy',\n",
        "    optimizer = tf.optimizers.Adam(),\n",
        "    metrics = ['accuracy']\n",
        ")"
      ],
      "metadata": {
        "id": "AprZyKwK6jW7"
      },
      "execution_count": null,
      "outputs": []
    },
    {
      "cell_type": "code",
      "source": [
        "accuracy_threshold = 0.98\n",
        "\n",
        "class my_callbacks(tf.keras.callbacks.Callback):\n",
        "    def on_epoch_end(self, epoch, logs=None):\n",
        "        if logs.get('accuracy') >= accuracy_threshold:\n",
        "            print('\\nFor Epoch', epoch, '\\nAccuracy has reached = %2.2f%%' % (logs['accuracy'] * 100), 'training has been stopped.')\n",
        "            self.model.stop_training = True\n",
        "\n",
        "callbacks = my_callbacks()\n",
        "history = model.fit(\n",
        "    train_generator,\n",
        "    steps_per_epoch=25,\n",
        "    epochs=20,\n",
        "    validation_data=validation_generator,\n",
        "    validation_steps=5,\n",
        "    verbose=2,\n",
        "    callbacks=[callbacks]\n",
        ")\n",
        "tf.keras.backend.clear_session()"
      ],
      "metadata": {
        "id": "fENwqkjK63do"
      },
      "execution_count": null,
      "outputs": []
    },
    {
      "cell_type": "code",
      "source": [
        "%matplotlib inline\n",
        "uploaded = files.upload()\n",
        "for fn in uploaded.keys():\n",
        "  # prediksi gambar\n",
        "  path = fn\n",
        "  img_source = image.load_img(path, target_size = (100, 150))\n",
        "  imgplot = plt.imshow(img_source)\n",
        "  x = image.img_to_array(img_source)\n",
        "  x = np.expand_dims(x, axis = 0)\n",
        "\n",
        "  images = np.vstack([x])\n",
        "  classes = model.predict(images, batch_size = 10)\n",
        "\n",
        "  print(fn)\n",
        "  if classes[0, 0] == 1:\n",
        "    print('paper')\n",
        "  elif classes[0, 1] == 1:\n",
        "    print('rock')\n",
        "  elif classes[0, 2] == 1:\n",
        "    print('scissors')"
      ],
      "metadata": {
        "id": "k4Rv-mUx_dAe"
      },
      "execution_count": null,
      "outputs": []
    }
  ]
}